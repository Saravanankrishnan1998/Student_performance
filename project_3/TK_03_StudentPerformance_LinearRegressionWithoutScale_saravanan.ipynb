{
 "cells": [
  {
   "cell_type": "markdown",
   "id": "958b18c6-ba6c-4c26-b4d2-116d55530fd2",
   "metadata": {},
   "source": [
    "# Data PreProcessing"
   ]
  },
  {
   "cell_type": "markdown",
   "id": "47453088-c00f-49d6-b7ee-e3bdcce9b5a9",
   "metadata": {},
   "source": [
    "### *Import Libraries"
   ]
  },
  {
   "cell_type": "code",
   "execution_count": 4,
   "id": "e8fd2b3b-bf0d-48c4-908f-fd40e94101e1",
   "metadata": {},
   "outputs": [],
   "source": [
    "#Define data set\n",
    "import numpy as np\n",
    "import pandas as pd\n",
    "\n",
    "#Define scalling data\n",
    "from sklearn.preprocessing import StandardScaler,LabelEncoder\n",
    "\n",
    "#define Data viz\n",
    "import matplotlib.pyplot as plt\n",
    "import seaborn as sns\n",
    "\n",
    "#Define Model Built\n",
    "from sklearn.model_selection import train_test_split,GridSearchCV\n",
    "from sklearn.linear_model import LinearRegression\n",
    "from sklearn.metrics import mean_absolute_error, mean_squared_error,r2_score"
   ]
  },
  {
   "cell_type": "markdown",
   "id": "5f5cb5f2-a58a-401d-96cc-4a2781e39c85",
   "metadata": {},
   "source": [
    "### *Importing DATA"
   ]
  },
  {
   "cell_type": "code",
   "execution_count": 7,
   "id": "da2fe757-ccef-431c-8672-7f96d73d7ed0",
   "metadata": {},
   "outputs": [],
   "source": [
    "df = pd.read_csv('./Data/Student_performance_data _.csv')"
   ]
  },
  {
   "cell_type": "markdown",
   "id": "49803e91-53ae-4a67-8602-6911af6b7ef7",
   "metadata": {},
   "source": [
    "### *EDA"
   ]
  },
  {
   "cell_type": "code",
   "execution_count": 10,
   "id": "6bc3619f-491d-4def-b631-253527a068a4",
   "metadata": {},
   "outputs": [
    {
     "data": {
      "text/html": [
       "<div>\n",
       "<style scoped>\n",
       "    .dataframe tbody tr th:only-of-type {\n",
       "        vertical-align: middle;\n",
       "    }\n",
       "\n",
       "    .dataframe tbody tr th {\n",
       "        vertical-align: top;\n",
       "    }\n",
       "\n",
       "    .dataframe thead th {\n",
       "        text-align: right;\n",
       "    }\n",
       "</style>\n",
       "<table border=\"1\" class=\"dataframe\">\n",
       "  <thead>\n",
       "    <tr style=\"text-align: right;\">\n",
       "      <th></th>\n",
       "      <th>StudentID</th>\n",
       "      <th>Age</th>\n",
       "      <th>Gender</th>\n",
       "      <th>Ethnicity</th>\n",
       "      <th>ParentalEducation</th>\n",
       "      <th>StudyTimeWeekly</th>\n",
       "      <th>Absences</th>\n",
       "      <th>Tutoring</th>\n",
       "      <th>ParentalSupport</th>\n",
       "      <th>Extracurricular</th>\n",
       "      <th>Sports</th>\n",
       "      <th>Music</th>\n",
       "      <th>Volunteering</th>\n",
       "      <th>GPA</th>\n",
       "      <th>GradeClass</th>\n",
       "    </tr>\n",
       "  </thead>\n",
       "  <tbody>\n",
       "    <tr>\n",
       "      <th>0</th>\n",
       "      <td>1001</td>\n",
       "      <td>17</td>\n",
       "      <td>1</td>\n",
       "      <td>0</td>\n",
       "      <td>2</td>\n",
       "      <td>19.833723</td>\n",
       "      <td>7</td>\n",
       "      <td>1</td>\n",
       "      <td>2</td>\n",
       "      <td>0</td>\n",
       "      <td>0</td>\n",
       "      <td>1</td>\n",
       "      <td>0</td>\n",
       "      <td>2.929196</td>\n",
       "      <td>2.0</td>\n",
       "    </tr>\n",
       "    <tr>\n",
       "      <th>1</th>\n",
       "      <td>1002</td>\n",
       "      <td>18</td>\n",
       "      <td>0</td>\n",
       "      <td>0</td>\n",
       "      <td>1</td>\n",
       "      <td>15.408756</td>\n",
       "      <td>0</td>\n",
       "      <td>0</td>\n",
       "      <td>1</td>\n",
       "      <td>0</td>\n",
       "      <td>0</td>\n",
       "      <td>0</td>\n",
       "      <td>0</td>\n",
       "      <td>3.042915</td>\n",
       "      <td>1.0</td>\n",
       "    </tr>\n",
       "    <tr>\n",
       "      <th>2</th>\n",
       "      <td>1003</td>\n",
       "      <td>15</td>\n",
       "      <td>0</td>\n",
       "      <td>2</td>\n",
       "      <td>3</td>\n",
       "      <td>4.210570</td>\n",
       "      <td>26</td>\n",
       "      <td>0</td>\n",
       "      <td>2</td>\n",
       "      <td>0</td>\n",
       "      <td>0</td>\n",
       "      <td>0</td>\n",
       "      <td>0</td>\n",
       "      <td>0.112602</td>\n",
       "      <td>4.0</td>\n",
       "    </tr>\n",
       "    <tr>\n",
       "      <th>3</th>\n",
       "      <td>1004</td>\n",
       "      <td>17</td>\n",
       "      <td>1</td>\n",
       "      <td>0</td>\n",
       "      <td>3</td>\n",
       "      <td>10.028829</td>\n",
       "      <td>14</td>\n",
       "      <td>0</td>\n",
       "      <td>3</td>\n",
       "      <td>1</td>\n",
       "      <td>0</td>\n",
       "      <td>0</td>\n",
       "      <td>0</td>\n",
       "      <td>2.054218</td>\n",
       "      <td>3.0</td>\n",
       "    </tr>\n",
       "    <tr>\n",
       "      <th>4</th>\n",
       "      <td>1005</td>\n",
       "      <td>17</td>\n",
       "      <td>1</td>\n",
       "      <td>0</td>\n",
       "      <td>2</td>\n",
       "      <td>4.672495</td>\n",
       "      <td>17</td>\n",
       "      <td>1</td>\n",
       "      <td>3</td>\n",
       "      <td>0</td>\n",
       "      <td>0</td>\n",
       "      <td>0</td>\n",
       "      <td>0</td>\n",
       "      <td>1.288061</td>\n",
       "      <td>4.0</td>\n",
       "    </tr>\n",
       "  </tbody>\n",
       "</table>\n",
       "</div>"
      ],
      "text/plain": [
       "   StudentID  Age  Gender  Ethnicity  ParentalEducation  StudyTimeWeekly  \\\n",
       "0       1001   17       1          0                  2        19.833723   \n",
       "1       1002   18       0          0                  1        15.408756   \n",
       "2       1003   15       0          2                  3         4.210570   \n",
       "3       1004   17       1          0                  3        10.028829   \n",
       "4       1005   17       1          0                  2         4.672495   \n",
       "\n",
       "   Absences  Tutoring  ParentalSupport  Extracurricular  Sports  Music  \\\n",
       "0         7         1                2                0       0      1   \n",
       "1         0         0                1                0       0      0   \n",
       "2        26         0                2                0       0      0   \n",
       "3        14         0                3                1       0      0   \n",
       "4        17         1                3                0       0      0   \n",
       "\n",
       "   Volunteering       GPA  GradeClass  \n",
       "0             0  2.929196         2.0  \n",
       "1             0  3.042915         1.0  \n",
       "2             0  0.112602         4.0  \n",
       "3             0  2.054218         3.0  \n",
       "4             0  1.288061         4.0  "
      ]
     },
     "execution_count": 10,
     "metadata": {},
     "output_type": "execute_result"
    }
   ],
   "source": [
    "df.head()"
   ]
  },
  {
   "cell_type": "code",
   "execution_count": 12,
   "id": "b9fc6c1c-cd50-4df5-8d42-6e72750f3585",
   "metadata": {},
   "outputs": [
    {
     "name": "stdout",
     "output_type": "stream",
     "text": [
      "<class 'pandas.core.frame.DataFrame'>\n",
      "RangeIndex: 2392 entries, 0 to 2391\n",
      "Data columns (total 15 columns):\n",
      " #   Column             Non-Null Count  Dtype  \n",
      "---  ------             --------------  -----  \n",
      " 0   StudentID          2392 non-null   int64  \n",
      " 1   Age                2392 non-null   int64  \n",
      " 2   Gender             2392 non-null   int64  \n",
      " 3   Ethnicity          2392 non-null   int64  \n",
      " 4   ParentalEducation  2392 non-null   int64  \n",
      " 5   StudyTimeWeekly    2392 non-null   float64\n",
      " 6   Absences           2392 non-null   int64  \n",
      " 7   Tutoring           2392 non-null   int64  \n",
      " 8   ParentalSupport    2392 non-null   int64  \n",
      " 9   Extracurricular    2392 non-null   int64  \n",
      " 10  Sports             2392 non-null   int64  \n",
      " 11  Music              2392 non-null   int64  \n",
      " 12  Volunteering       2392 non-null   int64  \n",
      " 13  GPA                2392 non-null   float64\n",
      " 14  GradeClass         2392 non-null   float64\n",
      "dtypes: float64(3), int64(12)\n",
      "memory usage: 280.4 KB\n"
     ]
    }
   ],
   "source": [
    "df.info()"
   ]
  },
  {
   "cell_type": "code",
   "execution_count": 14,
   "id": "3b293d30-d284-4fc1-a24a-8187171278eb",
   "metadata": {},
   "outputs": [
    {
     "data": {
      "text/plain": [
       "Index(['StudentID', 'Age', 'Gender', 'Ethnicity', 'ParentalEducation',\n",
       "       'StudyTimeWeekly', 'Absences', 'Tutoring', 'ParentalSupport',\n",
       "       'Extracurricular', 'Sports', 'Music', 'Volunteering', 'GPA',\n",
       "       'GradeClass'],\n",
       "      dtype='object')"
      ]
     },
     "execution_count": 14,
     "metadata": {},
     "output_type": "execute_result"
    }
   ],
   "source": [
    "df.columns"
   ]
  },
  {
   "cell_type": "code",
   "execution_count": 16,
   "id": "cb910480-d2fc-47a8-95f4-69eb46c2189c",
   "metadata": {},
   "outputs": [
    {
     "data": {
      "text/plain": [
       "<bound method NDFrame.describe of       StudentID  Age  Gender  Ethnicity  ParentalEducation  StudyTimeWeekly  \\\n",
       "0          1001   17       1          0                  2        19.833723   \n",
       "1          1002   18       0          0                  1        15.408756   \n",
       "2          1003   15       0          2                  3         4.210570   \n",
       "3          1004   17       1          0                  3        10.028829   \n",
       "4          1005   17       1          0                  2         4.672495   \n",
       "...         ...  ...     ...        ...                ...              ...   \n",
       "2387       3388   18       1          0                  3        10.680555   \n",
       "2388       3389   17       0          0                  1         7.583217   \n",
       "2389       3390   16       1          0                  2         6.805500   \n",
       "2390       3391   16       1          1                  0        12.416653   \n",
       "2391       3392   16       1          0                  2        17.819907   \n",
       "\n",
       "      Absences  Tutoring  ParentalSupport  Extracurricular  Sports  Music  \\\n",
       "0            7         1                2                0       0      1   \n",
       "1            0         0                1                0       0      0   \n",
       "2           26         0                2                0       0      0   \n",
       "3           14         0                3                1       0      0   \n",
       "4           17         1                3                0       0      0   \n",
       "...        ...       ...              ...              ...     ...    ...   \n",
       "2387         2         0                4                1       0      0   \n",
       "2388         4         1                4                0       1      0   \n",
       "2389        20         0                2                0       0      0   \n",
       "2390        17         0                2                0       1      1   \n",
       "2391        13         0                2                0       0      0   \n",
       "\n",
       "      Volunteering       GPA  GradeClass  \n",
       "0                0  2.929196         2.0  \n",
       "1                0  3.042915         1.0  \n",
       "2                0  0.112602         4.0  \n",
       "3                0  2.054218         3.0  \n",
       "4                0  1.288061         4.0  \n",
       "...            ...       ...         ...  \n",
       "2387             0  3.455509         0.0  \n",
       "2388             0  3.279150         4.0  \n",
       "2389             1  1.142333         2.0  \n",
       "2390             0  1.803297         1.0  \n",
       "2391             1  2.140014         1.0  \n",
       "\n",
       "[2392 rows x 15 columns]>"
      ]
     },
     "execution_count": 16,
     "metadata": {},
     "output_type": "execute_result"
    }
   ],
   "source": [
    "df.describe"
   ]
  },
  {
   "cell_type": "code",
   "execution_count": 18,
   "id": "5faea09f-00d3-4337-a9e9-1bf4d2d78f6c",
   "metadata": {},
   "outputs": [
    {
     "data": {
      "text/plain": [
       "StudentID              int64\n",
       "Age                    int64\n",
       "Gender                 int64\n",
       "Ethnicity              int64\n",
       "ParentalEducation      int64\n",
       "StudyTimeWeekly      float64\n",
       "Absences               int64\n",
       "Tutoring               int64\n",
       "ParentalSupport        int64\n",
       "Extracurricular        int64\n",
       "Sports                 int64\n",
       "Music                  int64\n",
       "Volunteering           int64\n",
       "GPA                  float64\n",
       "GradeClass           float64\n",
       "dtype: object"
      ]
     },
     "execution_count": 18,
     "metadata": {},
     "output_type": "execute_result"
    }
   ],
   "source": [
    "df.dtypes"
   ]
  },
  {
   "cell_type": "markdown",
   "id": "403b16dd-626c-4437-af16-c07c17daa612",
   "metadata": {},
   "source": [
    "### *Handling Missing Values"
   ]
  },
  {
   "cell_type": "code",
   "execution_count": 21,
   "id": "e59671b5-6b81-4e1a-9e27-3214bc6d0895",
   "metadata": {},
   "outputs": [
    {
     "data": {
      "text/plain": [
       "StudentID            0\n",
       "Age                  0\n",
       "Gender               0\n",
       "Ethnicity            0\n",
       "ParentalEducation    0\n",
       "StudyTimeWeekly      0\n",
       "Absences             0\n",
       "Tutoring             0\n",
       "ParentalSupport      0\n",
       "Extracurricular      0\n",
       "Sports               0\n",
       "Music                0\n",
       "Volunteering         0\n",
       "GPA                  0\n",
       "GradeClass           0\n",
       "dtype: int64"
      ]
     },
     "execution_count": 21,
     "metadata": {},
     "output_type": "execute_result"
    }
   ],
   "source": [
    "df.isna().sum()"
   ]
  },
  {
   "cell_type": "markdown",
   "id": "ae822522-e357-427e-8aec-920b6157d993",
   "metadata": {},
   "source": [
    "### *Feature Engineering"
   ]
  },
  {
   "cell_type": "code",
   "execution_count": 24,
   "id": "71ae17b8-182c-46d3-a1c1-b807a4f47855",
   "metadata": {},
   "outputs": [],
   "source": [
    "df.GradeClass = df.GradeClass.astype('object')"
   ]
  },
  {
   "cell_type": "code",
   "execution_count": 26,
   "id": "d9ddd3d4-815b-4e65-a96c-e091c15de36f",
   "metadata": {},
   "outputs": [
    {
     "data": {
      "text/plain": [
       "StudentID              int64\n",
       "Age                    int64\n",
       "Gender                 int64\n",
       "Ethnicity              int64\n",
       "ParentalEducation      int64\n",
       "StudyTimeWeekly      float64\n",
       "Absences               int64\n",
       "Tutoring               int64\n",
       "ParentalSupport        int64\n",
       "Extracurricular        int64\n",
       "Sports                 int64\n",
       "Music                  int64\n",
       "Volunteering           int64\n",
       "GPA                  float64\n",
       "GradeClass            object\n",
       "dtype: object"
      ]
     },
     "execution_count": 26,
     "metadata": {},
     "output_type": "execute_result"
    }
   ],
   "source": [
    "df.dtypes"
   ]
  },
  {
   "cell_type": "code",
   "execution_count": 28,
   "id": "137846b6-87b9-47c8-8d56-1b6b64c2799b",
   "metadata": {},
   "outputs": [
    {
     "data": {
      "text/html": [
       "<div>\n",
       "<style scoped>\n",
       "    .dataframe tbody tr th:only-of-type {\n",
       "        vertical-align: middle;\n",
       "    }\n",
       "\n",
       "    .dataframe tbody tr th {\n",
       "        vertical-align: top;\n",
       "    }\n",
       "\n",
       "    .dataframe thead th {\n",
       "        text-align: right;\n",
       "    }\n",
       "</style>\n",
       "<table border=\"1\" class=\"dataframe\">\n",
       "  <thead>\n",
       "    <tr style=\"text-align: right;\">\n",
       "      <th></th>\n",
       "      <th>StudentID</th>\n",
       "      <th>Age</th>\n",
       "      <th>Gender</th>\n",
       "      <th>Ethnicity</th>\n",
       "      <th>ParentalEducation</th>\n",
       "      <th>StudyTimeWeekly</th>\n",
       "      <th>Absences</th>\n",
       "      <th>Tutoring</th>\n",
       "      <th>ParentalSupport</th>\n",
       "      <th>Extracurricular</th>\n",
       "      <th>Sports</th>\n",
       "      <th>Music</th>\n",
       "      <th>Volunteering</th>\n",
       "      <th>GPA</th>\n",
       "      <th>GradeClass</th>\n",
       "    </tr>\n",
       "  </thead>\n",
       "  <tbody>\n",
       "    <tr>\n",
       "      <th>0</th>\n",
       "      <td>1001</td>\n",
       "      <td>17</td>\n",
       "      <td>1</td>\n",
       "      <td>0</td>\n",
       "      <td>2</td>\n",
       "      <td>19.833723</td>\n",
       "      <td>7</td>\n",
       "      <td>1</td>\n",
       "      <td>2</td>\n",
       "      <td>0</td>\n",
       "      <td>0</td>\n",
       "      <td>1</td>\n",
       "      <td>0</td>\n",
       "      <td>2.929196</td>\n",
       "      <td>2.0</td>\n",
       "    </tr>\n",
       "  </tbody>\n",
       "</table>\n",
       "</div>"
      ],
      "text/plain": [
       "   StudentID  Age  Gender  Ethnicity  ParentalEducation  StudyTimeWeekly  \\\n",
       "0       1001   17       1          0                  2        19.833723   \n",
       "\n",
       "   Absences  Tutoring  ParentalSupport  Extracurricular  Sports  Music  \\\n",
       "0         7         1                2                0       0      1   \n",
       "\n",
       "   Volunteering       GPA GradeClass  \n",
       "0             0  2.929196        2.0  "
      ]
     },
     "execution_count": 28,
     "metadata": {},
     "output_type": "execute_result"
    }
   ],
   "source": [
    "df.head(1)"
   ]
  },
  {
   "cell_type": "markdown",
   "id": "a28abf0d-b67c-4c06-9298-2cabc02be7ac",
   "metadata": {},
   "source": [
    "### *Handling Outliers"
   ]
  },
  {
   "cell_type": "markdown",
   "id": "3e8a5f47-5fa1-4f8a-8ed4-3ae7960ce133",
   "metadata": {},
   "source": [
    "### *Data Vizulisation"
   ]
  },
  {
   "cell_type": "markdown",
   "id": "a305cdf1-05fe-492c-9aae-970a4e70c721",
   "metadata": {},
   "source": [
    "# Model building"
   ]
  },
  {
   "cell_type": "markdown",
   "id": "b345e7f1-36f2-4ac6-92ec-cf1ab8ccc39c",
   "metadata": {},
   "source": [
    "### *Train Test Split"
   ]
  },
  {
   "cell_type": "code",
   "execution_count": 36,
   "id": "d1369f5d-f46d-4cb9-9dbf-ea1d8d4c4d2e",
   "metadata": {},
   "outputs": [],
   "source": [
    "x = df.drop(columns=['StudentID','GradeClass'])\n",
    "y = df['GradeClass']"
   ]
  },
  {
   "cell_type": "code",
   "execution_count": 38,
   "id": "a5ea5add-fdb8-4496-9120-a3f9b2133994",
   "metadata": {},
   "outputs": [],
   "source": [
    "x_train,x_test,y_train,y_test = train_test_split(x,y,test_size=0.2,random_state=42)"
   ]
  },
  {
   "cell_type": "code",
   "execution_count": 40,
   "id": "621b14c5-287c-49f1-991c-b34be0cdbe30",
   "metadata": {},
   "outputs": [
    {
     "name": "stdout",
     "output_type": "stream",
     "text": [
      "-----------------------------------------------------------------------------------------------------------------------------\n",
      "      Age  Gender  Ethnicity  ParentalEducation  StudyTimeWeekly  Absences  \\\n",
      "642    18       1          0                  4        18.118879        24   \n",
      "1752   16       1          3                  2         2.469271        19   \n",
      "1401   17       0          2                  3         3.456401        25   \n",
      "2032   17       1          0                  1        15.838131        25   \n",
      "990    16       0          0                  0         1.045373        19   \n",
      "\n",
      "      Tutoring  ParentalSupport  Extracurricular  Sports  Music  Volunteering  \\\n",
      "642          1                0                1       1      0             0   \n",
      "1752         0                1                0       0      0             1   \n",
      "1401         0                0                0       0      0             0   \n",
      "2032         1                2                0       0      0             0   \n",
      "990          1                2                0       0      1             0   \n",
      "\n",
      "           GPA  \n",
      "642   1.396278  \n",
      "1752  0.754751  \n",
      "1401  0.136166  \n",
      "2032  1.172192  \n",
      "990   1.747356  \n",
      "-----------------------------------------------------------------------------------------------------------------------------\n",
      "-----------------------------------------------------------------------------------------------------------------------------\n",
      "642     4.0\n",
      "1752    4.0\n",
      "1401    4.0\n",
      "2032    4.0\n",
      "990     4.0\n",
      "Name: GradeClass, dtype: object\n",
      "-----------------------------------------------------------------------------------------------------------------------------\n",
      "-----------------------------------------------------------------------------------------------------------------------------\n",
      "      Age  Gender  Ethnicity  ParentalEducation  StudyTimeWeekly  Absences  \\\n",
      "1004   15       1          2                  4         0.135763        17   \n",
      "196    16       1          0                  4         1.989925         0   \n",
      "2342   15       0          0                  0        10.588715        15   \n",
      "1708   18       1          1                  2        16.208658         1   \n",
      "435    18       0          0                  0         3.576821        27   \n",
      "\n",
      "      Tutoring  ParentalSupport  Extracurricular  Sports  Music  Volunteering  \\\n",
      "1004         0                2                0       1      1             1   \n",
      "196          0                1                1       0      0             1   \n",
      "2342         0                3                0       0      0             1   \n",
      "1708         0                3                1       0      0             0   \n",
      "435          0                1                0       1      0             0   \n",
      "\n",
      "           GPA  \n",
      "1004  1.427724  \n",
      "196   3.117354  \n",
      "2342  2.037769  \n",
      "1708  3.548521  \n",
      "435   0.248977  \n",
      "-----------------------------------------------------------------------------------------------------------------------------\n",
      "-----------------------------------------------------------------------------------------------------------------------------\n",
      "1004    4.0\n",
      "196     1.0\n",
      "2342    2.0\n",
      "1708    0.0\n",
      "435     4.0\n",
      "Name: GradeClass, dtype: object\n",
      "-----------------------------------------------------------------------------------------------------------------------------\n"
     ]
    }
   ],
   "source": [
    "for i in x_train,y_train,x_test,y_test :\n",
    "    print('-----'*25)\n",
    "    print(i.head())\n",
    "    print('-----'*25)"
   ]
  },
  {
   "cell_type": "markdown",
   "id": "3ea40f34-73a5-4860-8291-6b9dc3480446",
   "metadata": {},
   "source": [
    "### *Model Initialization"
   ]
  },
  {
   "cell_type": "code",
   "execution_count": 43,
   "id": "9d4ce54f-9b93-4b85-8b9d-ba1ceedeba02",
   "metadata": {},
   "outputs": [],
   "source": [
    "model = LinearRegression()"
   ]
  },
  {
   "cell_type": "markdown",
   "id": "4566170e-b088-456a-bb48-70b8181bf692",
   "metadata": {},
   "source": [
    "### *Model Training"
   ]
  },
  {
   "cell_type": "code",
   "execution_count": 46,
   "id": "37e85dfa-bdf8-4d65-8fa1-f1c00b033880",
   "metadata": {},
   "outputs": [
    {
     "data": {
      "text/html": [
       "<style>#sk-container-id-1 {color: black;background-color: white;}#sk-container-id-1 pre{padding: 0;}#sk-container-id-1 div.sk-toggleable {background-color: white;}#sk-container-id-1 label.sk-toggleable__label {cursor: pointer;display: block;width: 100%;margin-bottom: 0;padding: 0.3em;box-sizing: border-box;text-align: center;}#sk-container-id-1 label.sk-toggleable__label-arrow:before {content: \"▸\";float: left;margin-right: 0.25em;color: #696969;}#sk-container-id-1 label.sk-toggleable__label-arrow:hover:before {color: black;}#sk-container-id-1 div.sk-estimator:hover label.sk-toggleable__label-arrow:before {color: black;}#sk-container-id-1 div.sk-toggleable__content {max-height: 0;max-width: 0;overflow: hidden;text-align: left;background-color: #f0f8ff;}#sk-container-id-1 div.sk-toggleable__content pre {margin: 0.2em;color: black;border-radius: 0.25em;background-color: #f0f8ff;}#sk-container-id-1 input.sk-toggleable__control:checked~div.sk-toggleable__content {max-height: 200px;max-width: 100%;overflow: auto;}#sk-container-id-1 input.sk-toggleable__control:checked~label.sk-toggleable__label-arrow:before {content: \"▾\";}#sk-container-id-1 div.sk-estimator input.sk-toggleable__control:checked~label.sk-toggleable__label {background-color: #d4ebff;}#sk-container-id-1 div.sk-label input.sk-toggleable__control:checked~label.sk-toggleable__label {background-color: #d4ebff;}#sk-container-id-1 input.sk-hidden--visually {border: 0;clip: rect(1px 1px 1px 1px);clip: rect(1px, 1px, 1px, 1px);height: 1px;margin: -1px;overflow: hidden;padding: 0;position: absolute;width: 1px;}#sk-container-id-1 div.sk-estimator {font-family: monospace;background-color: #f0f8ff;border: 1px dotted black;border-radius: 0.25em;box-sizing: border-box;margin-bottom: 0.5em;}#sk-container-id-1 div.sk-estimator:hover {background-color: #d4ebff;}#sk-container-id-1 div.sk-parallel-item::after {content: \"\";width: 100%;border-bottom: 1px solid gray;flex-grow: 1;}#sk-container-id-1 div.sk-label:hover label.sk-toggleable__label {background-color: #d4ebff;}#sk-container-id-1 div.sk-serial::before {content: \"\";position: absolute;border-left: 1px solid gray;box-sizing: border-box;top: 0;bottom: 0;left: 50%;z-index: 0;}#sk-container-id-1 div.sk-serial {display: flex;flex-direction: column;align-items: center;background-color: white;padding-right: 0.2em;padding-left: 0.2em;position: relative;}#sk-container-id-1 div.sk-item {position: relative;z-index: 1;}#sk-container-id-1 div.sk-parallel {display: flex;align-items: stretch;justify-content: center;background-color: white;position: relative;}#sk-container-id-1 div.sk-item::before, #sk-container-id-1 div.sk-parallel-item::before {content: \"\";position: absolute;border-left: 1px solid gray;box-sizing: border-box;top: 0;bottom: 0;left: 50%;z-index: -1;}#sk-container-id-1 div.sk-parallel-item {display: flex;flex-direction: column;z-index: 1;position: relative;background-color: white;}#sk-container-id-1 div.sk-parallel-item:first-child::after {align-self: flex-end;width: 50%;}#sk-container-id-1 div.sk-parallel-item:last-child::after {align-self: flex-start;width: 50%;}#sk-container-id-1 div.sk-parallel-item:only-child::after {width: 0;}#sk-container-id-1 div.sk-dashed-wrapped {border: 1px dashed gray;margin: 0 0.4em 0.5em 0.4em;box-sizing: border-box;padding-bottom: 0.4em;background-color: white;}#sk-container-id-1 div.sk-label label {font-family: monospace;font-weight: bold;display: inline-block;line-height: 1.2em;}#sk-container-id-1 div.sk-label-container {text-align: center;}#sk-container-id-1 div.sk-container {/* jupyter's `normalize.less` sets `[hidden] { display: none; }` but bootstrap.min.css set `[hidden] { display: none !important; }` so we also need the `!important` here to be able to override the default hidden behavior on the sphinx rendered scikit-learn.org. See: https://github.com/scikit-learn/scikit-learn/issues/21755 */display: inline-block !important;position: relative;}#sk-container-id-1 div.sk-text-repr-fallback {display: none;}</style><div id=\"sk-container-id-1\" class=\"sk-top-container\"><div class=\"sk-text-repr-fallback\"><pre>LinearRegression()</pre><b>In a Jupyter environment, please rerun this cell to show the HTML representation or trust the notebook. <br />On GitHub, the HTML representation is unable to render, please try loading this page with nbviewer.org.</b></div><div class=\"sk-container\" hidden><div class=\"sk-item\"><div class=\"sk-estimator sk-toggleable\"><input class=\"sk-toggleable__control sk-hidden--visually\" id=\"sk-estimator-id-1\" type=\"checkbox\" checked><label for=\"sk-estimator-id-1\" class=\"sk-toggleable__label sk-toggleable__label-arrow\">LinearRegression</label><div class=\"sk-toggleable__content\"><pre>LinearRegression()</pre></div></div></div></div></div>"
      ],
      "text/plain": [
       "LinearRegression()"
      ]
     },
     "execution_count": 46,
     "metadata": {},
     "output_type": "execute_result"
    }
   ],
   "source": [
    "model.fit(x_train,y_train)"
   ]
  },
  {
   "cell_type": "markdown",
   "id": "2da219e9-5aff-4bdb-bf0d-02fdcfae0eb5",
   "metadata": {},
   "source": [
    "### *Hyper Parameter tuning"
   ]
  },
  {
   "cell_type": "markdown",
   "id": "6841e1f3-27de-473d-bdff-f132ac4d2916",
   "metadata": {},
   "source": [
    "# evaluation & Result:"
   ]
  },
  {
   "cell_type": "code",
   "execution_count": 50,
   "id": "5646e5f9-353e-4c68-8729-826b8978d94a",
   "metadata": {},
   "outputs": [
    {
     "name": "stdout",
     "output_type": "stream",
     "text": [
      "[3.67786878 1.78069216 2.86699311 1.24359547 4.66764951 2.25459738\n",
      " 2.96493866 2.66096251 2.61605697 4.22943703 2.58970013 4.11339926\n",
      " 1.91317549 2.51753908 2.07198351 4.70018653 3.80339147 3.29656461\n",
      " 2.86618694 2.49304657 3.08553722 3.41829248 3.13639578 1.61301277\n",
      " 3.17836611 3.99180737 3.4718908  1.80538999 2.63021908 2.57230173\n",
      " 2.88622201 4.12993062 1.98457271 1.27146879 3.21735127 3.0100534\n",
      " 1.54479259 1.99578652 1.49265667 4.5536996  2.16752811 1.15219507\n",
      " 3.81017517 2.83959503 4.01290383 2.55886696 2.01888771 3.54446535\n",
      " 2.19966507 3.4058196  1.52151597 1.45046564 3.49845045 3.7091477\n",
      " 3.00349106 1.3377347  2.54847087 1.48682068 4.25226716 2.73408277\n",
      " 3.15583396 2.71391727 2.31703939 3.53732699 3.95833281 2.88027698\n",
      " 1.71556407 2.50646755 3.79836891 1.52759136 1.2358123  3.75939681\n",
      " 1.8346735  2.31285804 4.490379   2.14969002 2.91372579 3.13889649\n",
      " 4.69120172 3.55904793 2.89366147 1.58928058 2.55203426 3.2300333\n",
      " 3.41960779 4.45178794 0.83855745 3.7368312  3.56992056 3.26238227\n",
      " 2.3286004  3.60232212 3.95325013 4.82946234 3.54380964 3.57590012\n",
      " 1.53110247 3.89220855 3.24635834 3.26189086 4.98282732 2.76178524\n",
      " 3.6945583  3.46977328 4.21094343 2.60516169 2.22891166 3.63284256\n",
      " 3.41943602 4.38027363 2.93255723 2.64839202 1.18672914 4.433973\n",
      " 4.44041205 3.83222364 2.88163287 1.75376375 3.75882017 2.67604338\n",
      " 4.53741209 1.84760585 1.20607956 3.96208103 3.08398383 3.60824966\n",
      " 2.14578492 3.6272427  2.63429286 1.90716183 3.8168706  0.86303976\n",
      " 1.83783821 4.54308481 4.29928707 4.04886341 2.58106969 4.58793751\n",
      " 4.38782361 3.88249075 2.19466201 3.11512133 1.40762307 3.39630264\n",
      " 1.76604719 3.71669781 3.50196167 2.29113011 1.62978145 3.42480771\n",
      " 1.60468516 4.13588967 1.23488809 3.5886785  3.76711667 4.40892332\n",
      " 3.46589973 3.91205212 3.4819074  4.43151543 3.40166864 3.34050103\n",
      " 4.25317145 4.56716757 4.37350617 4.59900574 3.75024039 3.75561177\n",
      " 2.34309023 1.37637507 3.42700831 1.64104803 1.74435803 4.87487535\n",
      " 3.82753374 2.28260825 2.60684444 3.70263656 2.66540693 3.22792225\n",
      " 1.97170403 2.82446037 4.08576524 2.20947831 2.02678851 2.07578392\n",
      " 1.53489117 3.52881493 4.66273467 3.02576079 4.02735423 2.83793413\n",
      " 3.85946095 4.06070096 3.36507454 3.84175829 2.95113175 2.51713315\n",
      " 1.95504132 2.60626452 3.50175482 1.81377353 4.45438437 2.68618262\n",
      " 2.1535914  2.52087235 4.4498689  1.82899182 2.62338815 3.07549822\n",
      " 3.73354308 3.70992506 3.00135138 1.95438762 2.18657609 3.9631106\n",
      " 2.05766756 1.75681529 3.29151278 1.89145697 3.87051654 2.18736874\n",
      " 1.08047344 4.34349779 2.86022696 3.00677146 1.74485969 2.04670626\n",
      " 3.65711547 2.81873301 3.1801778  2.83044176 1.85337549 3.92906684\n",
      " 1.77273466 2.29758988 4.45405857 3.88068356 1.98746979 4.38991641\n",
      " 1.13619379 4.07175147 4.18362642 2.46662267 3.10531066 4.18654635\n",
      " 2.63857149 3.84650451 4.47971357 2.79295057 3.84125266 1.90403319\n",
      " 2.42001074 3.32265705 2.48030195 3.34387489 3.18823545 2.43119069\n",
      " 4.98597751 3.3766703  2.81360286 4.59618462 3.70224631 4.14013721\n",
      " 2.9999388  1.29631408 2.52818463 4.46812846 2.04195066 2.56441478\n",
      " 3.71039054 1.7455195  3.51745812 3.19297634 3.54567168 2.85276871\n",
      " 3.84204568 3.09226823 4.90164703 1.99675317 1.73155536 1.83454582\n",
      " 2.81790581 3.33205884 1.48381646 2.73906498 3.79548931 3.33928183\n",
      " 4.49948206 4.79438513 1.03888582 3.19141734 1.99933758 3.80384234\n",
      " 2.09626046 3.99990923 1.75015433 3.05859724 4.84750681 1.71513488\n",
      " 2.3281536  2.85557932 4.04664703 1.39527773 2.65528366 2.27795919\n",
      " 4.19564339 2.24659256 4.03359672 3.02556688 3.52441346 2.95905349\n",
      " 3.96359238 4.0013341  4.20284505 3.5517335  1.88670882 2.58441716\n",
      " 2.36254644 3.01554917 3.03178316 3.26558641 3.3419939  2.57749608\n",
      " 1.70195464 3.31076797 3.71131313 3.37411494 2.04845225 3.90266299\n",
      " 3.01535643 2.04535293 2.58410108 2.19871124 1.52259596 2.1952998\n",
      " 2.18556059 3.36756106 4.10785453 3.25063722 3.83154881 3.16094793\n",
      " 3.86849014 3.29526333 2.96489902 2.45190049 1.6105969  1.67060151\n",
      " 3.73619464 1.48566599 1.38183035 2.43405368 2.70088469 2.41858763\n",
      " 3.08217377 3.34029313 2.72946312 3.36284195 4.54662268 2.95097083\n",
      " 2.5313428  1.66956015 2.7261804  3.52005179 3.33871911 2.02423548\n",
      " 0.89745141 2.20551023 2.38647667 2.62372787 4.23124381 2.5972872\n",
      " 2.57722419 1.87203798 1.92693314 3.99140371 3.41587734 2.66768188\n",
      " 1.26993597 4.30407864 2.87435786 2.28297265 4.44620261 1.85001697\n",
      " 2.30973213 3.53407711 2.91662273 2.98476606 2.14910423 3.27108134\n",
      " 2.52127798 3.77426667 4.2228462  2.22962895 2.64471926 1.93332127\n",
      " 1.95471614 1.96539092 2.49189841 2.00963722 2.29180221 2.63691426\n",
      " 2.47125295 1.59583576 2.7478623  1.75306969 3.6114534  1.20084232\n",
      " 2.68745953 1.50951452 2.80787134 3.62414792 2.78754047 2.36441613\n",
      " 1.73122451 2.96015638 4.62859195 1.26334001 2.40253956 3.44434112\n",
      " 3.33052193 3.26540846 2.27944772 3.04585557 3.54734151 3.78173875\n",
      " 4.6194336  2.37157688 3.11165925 1.78192971 1.43351997 3.15087455\n",
      " 3.31816874 1.78560799 2.33236139 2.42735538 3.55681992 1.37478692\n",
      " 2.68610439 3.37928981 3.43083769 1.69764135 2.24437042 1.65581997\n",
      " 1.87231286 1.86202757 3.67437085 1.97709676 4.78695042 4.3747482\n",
      " 2.61405215 4.42971797 1.83490311 2.87283601 1.29335241 2.95059462\n",
      " 3.5894665  3.97639163 4.43832011 2.85674868 3.76866712 4.68749435\n",
      " 4.51959118 3.30051994 2.65382721 4.75137903 4.5634817  2.00175231\n",
      " 1.59412505 2.42883898 3.83274553 2.83065991 3.32823092 3.49481377\n",
      " 3.39353435 2.73567921 2.40344873 2.02649569 4.07075503]\n"
     ]
    }
   ],
   "source": [
    "y_pred = model.predict(x_test)\n",
    "print(y_pred)"
   ]
  },
  {
   "cell_type": "code",
   "execution_count": 52,
   "id": "20495412-b9e4-445a-b13c-8c4a22d82984",
   "metadata": {},
   "outputs": [
    {
     "name": "stdout",
     "output_type": "stream",
     "text": [
      "mean_absolute_error:  0.5423598590717797\n",
      "mean_squared_error:\n",
      "  0.5437997812834355\n",
      "r2_score:\n",
      "  0.41220122532179304\n"
     ]
    }
   ],
   "source": [
    "mae= mean_absolute_error(y_pred, y_test)\n",
    "mse = mean_squared_error(y_pred, y_test)\n",
    "r2_score = r2_score(y_pred, y_test)\n",
    "\n",
    "print(f'mean_absolute_error:  {mae}')\n",
    "print(f'mean_squared_error:\\n  {mse}')\n",
    "print(f'r2_score:\\n  {r2_score}')\n"
   ]
  },
  {
   "cell_type": "code",
   "execution_count": 54,
   "id": "438bd825-ae1c-4173-b1a4-f2e30654ddbf",
   "metadata": {},
   "outputs": [
    {
     "name": "stdout",
     "output_type": "stream",
     "text": [
      "   StudentID  Age  Gender  Ethnicity  ParentalEducation  StudyTimeWeekly  \\\n",
      "0       1002   17       1          0                  2        19.833723   \n",
      "\n",
      "   Absences  Tutoring  ParentalSupport  Extracurricular  Sports  Music  \\\n",
      "0         7         1                2                0       0      1   \n",
      "\n",
      "   Volunteering       GPA  GradeClass  \n",
      "0             2  2.929196    2.137397  \n"
     ]
    }
   ],
   "source": [
    "new_data ={\n",
    "    'StudentID': [1002],\n",
    "    'Age':[17],\n",
    "    'Gender':[1],\n",
    "    'Ethnicity': [0],\n",
    "    'ParentalEducation': [2],\n",
    "    'StudyTimeWeekly': [19.833723],\n",
    "    'Absences': [7],\n",
    "    'Tutoring': [1],\n",
    "    'ParentalSupport': [2],\n",
    "    'Extracurricular': [0],\n",
    "    'Sports': [0],\n",
    "    'Music': [1],\n",
    "    'Volunteering': [2],\n",
    "    'GPA': [2.929196]\t\t\t\t\t\t\t\n",
    "} \n",
    "\n",
    "df = pd.DataFrame(new_data)\n",
    "\n",
    "\n",
    "# Drop the 'Id' column\n",
    "new_X = df.drop(columns=['StudentID'])\n",
    "\n",
    "# # Apply the same scaler used for the training data\n",
    "# new_X_scaled = scaler.transform(new_X)\n",
    "\n",
    "# # Convert the scaled data back to a DataFrame\n",
    "# new_df_scaled = pd.DataFrame(new_X_scaled, columns=new_X.columns)\n",
    "\n",
    "new_predictions = model.predict(new_X)\n",
    "\n",
    "# Add predictions to the new data\n",
    "df['GradeClass'] = new_predictions\n",
    "\n",
    "print(df)"
   ]
  },
  {
   "cell_type": "markdown",
   "id": "28e762ea-452d-4a98-8ce8-54f0b042bbd5",
   "metadata": {},
   "source": [
    "## Hyper Parameter Tuning"
   ]
  },
  {
   "cell_type": "code",
   "execution_count": null,
   "id": "88fa2707-8159-4533-a067-4fc76f41c199",
   "metadata": {},
   "outputs": [],
   "source": []
  }
 ],
 "metadata": {
  "kernelspec": {
   "display_name": "Python 3 (ipykernel)",
   "language": "python",
   "name": "python3"
  },
  "language_info": {
   "codemirror_mode": {
    "name": "ipython",
    "version": 3
   },
   "file_extension": ".py",
   "mimetype": "text/x-python",
   "name": "python",
   "nbconvert_exporter": "python",
   "pygments_lexer": "ipython3",
   "version": "3.11.7"
  }
 },
 "nbformat": 4,
 "nbformat_minor": 5
}
