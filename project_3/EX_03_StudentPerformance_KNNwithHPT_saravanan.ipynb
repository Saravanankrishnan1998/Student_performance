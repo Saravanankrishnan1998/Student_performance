{
 "cells": [
  {
   "cell_type": "markdown",
   "id": "958b18c6-ba6c-4c26-b4d2-116d55530fd2",
   "metadata": {},
   "source": [
    "# Data PreProcessing"
   ]
  },
  {
   "cell_type": "markdown",
   "id": "47453088-c00f-49d6-b7ee-e3bdcce9b5a9",
   "metadata": {},
   "source": [
    "### *Import Libraries"
   ]
  },
  {
   "cell_type": "code",
   "execution_count": 1,
   "id": "e8fd2b3b-bf0d-48c4-908f-fd40e94101e1",
   "metadata": {},
   "outputs": [],
   "source": [
    "#Define data set\n",
    "import numpy as np\n",
    "import pandas as pd\n",
    "\n",
    "#Define scalling data\n",
    "from sklearn.preprocessing import StandardScaler,LabelEncoder\n",
    "\n",
    "#define Data viz\n",
    "import matplotlib.pyplot as plt\n",
    "import seaborn as sns\n",
    "\n",
    "#Define Model Built\n",
    "from sklearn.model_selection import train_test_split,GridSearchCV\n",
    "from sklearn.neighbors import KNeighborsClassifier\n",
    "from sklearn.metrics import accuracy_score,confusion_matrix,classification_report"
   ]
  },
  {
   "cell_type": "markdown",
   "id": "5f5cb5f2-a58a-401d-96cc-4a2781e39c85",
   "metadata": {},
   "source": [
    "### *Importing DATA"
   ]
  },
  {
   "cell_type": "code",
   "execution_count": 3,
   "id": "da2fe757-ccef-431c-8672-7f96d73d7ed0",
   "metadata": {},
   "outputs": [],
   "source": [
    "df = pd.read_csv('./Data/Student_performance_data _.csv')"
   ]
  },
  {
   "cell_type": "markdown",
   "id": "49803e91-53ae-4a67-8602-6911af6b7ef7",
   "metadata": {},
   "source": [
    "### *EDA"
   ]
  },
  {
   "cell_type": "code",
   "execution_count": null,
   "id": "6bc3619f-491d-4def-b631-253527a068a4",
   "metadata": {},
   "outputs": [],
   "source": [
    "df.head()"
   ]
  },
  {
   "cell_type": "code",
   "execution_count": null,
   "id": "b9fc6c1c-cd50-4df5-8d42-6e72750f3585",
   "metadata": {},
   "outputs": [],
   "source": [
    "df.info()"
   ]
  },
  {
   "cell_type": "code",
   "execution_count": null,
   "id": "3b293d30-d284-4fc1-a24a-8187171278eb",
   "metadata": {},
   "outputs": [],
   "source": [
    "df.columns"
   ]
  },
  {
   "cell_type": "code",
   "execution_count": null,
   "id": "cb910480-d2fc-47a8-95f4-69eb46c2189c",
   "metadata": {},
   "outputs": [],
   "source": [
    "df.describe"
   ]
  },
  {
   "cell_type": "code",
   "execution_count": null,
   "id": "5faea09f-00d3-4337-a9e9-1bf4d2d78f6c",
   "metadata": {},
   "outputs": [],
   "source": [
    "df.dtypes"
   ]
  },
  {
   "cell_type": "markdown",
   "id": "403b16dd-626c-4437-af16-c07c17daa612",
   "metadata": {},
   "source": [
    "### *Handling Missing Values"
   ]
  },
  {
   "cell_type": "code",
   "execution_count": null,
   "id": "e59671b5-6b81-4e1a-9e27-3214bc6d0895",
   "metadata": {},
   "outputs": [],
   "source": [
    "df.isna().sum()"
   ]
  },
  {
   "cell_type": "markdown",
   "id": "ae822522-e357-427e-8aec-920b6157d993",
   "metadata": {},
   "source": [
    "### *Feature Engineering"
   ]
  },
  {
   "cell_type": "code",
   "execution_count": 17,
   "id": "71ae17b8-182c-46d3-a1c1-b807a4f47855",
   "metadata": {},
   "outputs": [],
   "source": [
    "df['GradeClass'] = df['GradeClass'].astype('object')"
   ]
  },
  {
   "cell_type": "code",
   "execution_count": 19,
   "id": "d9ddd3d4-815b-4e65-a96c-e091c15de36f",
   "metadata": {},
   "outputs": [
    {
     "data": {
      "text/plain": [
       "StudentID              int64\n",
       "Age                    int64\n",
       "Gender                 int64\n",
       "Ethnicity              int64\n",
       "ParentalEducation      int64\n",
       "StudyTimeWeekly      float64\n",
       "Absences               int64\n",
       "Tutoring               int64\n",
       "ParentalSupport        int64\n",
       "Extracurricular        int64\n",
       "Sports                 int64\n",
       "Music                  int64\n",
       "Volunteering           int64\n",
       "GPA                  float64\n",
       "GradeClass            object\n",
       "dtype: object"
      ]
     },
     "execution_count": 19,
     "metadata": {},
     "output_type": "execute_result"
    }
   ],
   "source": [
    "df.dtypes"
   ]
  },
  {
   "cell_type": "code",
   "execution_count": 23,
   "id": "2bd8c5b6-2b55-47df-baf7-a8699c103e28",
   "metadata": {},
   "outputs": [
    {
     "data": {
      "text/html": [
       "<style>#sk-container-id-1 {color: black;background-color: white;}#sk-container-id-1 pre{padding: 0;}#sk-container-id-1 div.sk-toggleable {background-color: white;}#sk-container-id-1 label.sk-toggleable__label {cursor: pointer;display: block;width: 100%;margin-bottom: 0;padding: 0.3em;box-sizing: border-box;text-align: center;}#sk-container-id-1 label.sk-toggleable__label-arrow:before {content: \"▸\";float: left;margin-right: 0.25em;color: #696969;}#sk-container-id-1 label.sk-toggleable__label-arrow:hover:before {color: black;}#sk-container-id-1 div.sk-estimator:hover label.sk-toggleable__label-arrow:before {color: black;}#sk-container-id-1 div.sk-toggleable__content {max-height: 0;max-width: 0;overflow: hidden;text-align: left;background-color: #f0f8ff;}#sk-container-id-1 div.sk-toggleable__content pre {margin: 0.2em;color: black;border-radius: 0.25em;background-color: #f0f8ff;}#sk-container-id-1 input.sk-toggleable__control:checked~div.sk-toggleable__content {max-height: 200px;max-width: 100%;overflow: auto;}#sk-container-id-1 input.sk-toggleable__control:checked~label.sk-toggleable__label-arrow:before {content: \"▾\";}#sk-container-id-1 div.sk-estimator input.sk-toggleable__control:checked~label.sk-toggleable__label {background-color: #d4ebff;}#sk-container-id-1 div.sk-label input.sk-toggleable__control:checked~label.sk-toggleable__label {background-color: #d4ebff;}#sk-container-id-1 input.sk-hidden--visually {border: 0;clip: rect(1px 1px 1px 1px);clip: rect(1px, 1px, 1px, 1px);height: 1px;margin: -1px;overflow: hidden;padding: 0;position: absolute;width: 1px;}#sk-container-id-1 div.sk-estimator {font-family: monospace;background-color: #f0f8ff;border: 1px dotted black;border-radius: 0.25em;box-sizing: border-box;margin-bottom: 0.5em;}#sk-container-id-1 div.sk-estimator:hover {background-color: #d4ebff;}#sk-container-id-1 div.sk-parallel-item::after {content: \"\";width: 100%;border-bottom: 1px solid gray;flex-grow: 1;}#sk-container-id-1 div.sk-label:hover label.sk-toggleable__label {background-color: #d4ebff;}#sk-container-id-1 div.sk-serial::before {content: \"\";position: absolute;border-left: 1px solid gray;box-sizing: border-box;top: 0;bottom: 0;left: 50%;z-index: 0;}#sk-container-id-1 div.sk-serial {display: flex;flex-direction: column;align-items: center;background-color: white;padding-right: 0.2em;padding-left: 0.2em;position: relative;}#sk-container-id-1 div.sk-item {position: relative;z-index: 1;}#sk-container-id-1 div.sk-parallel {display: flex;align-items: stretch;justify-content: center;background-color: white;position: relative;}#sk-container-id-1 div.sk-item::before, #sk-container-id-1 div.sk-parallel-item::before {content: \"\";position: absolute;border-left: 1px solid gray;box-sizing: border-box;top: 0;bottom: 0;left: 50%;z-index: -1;}#sk-container-id-1 div.sk-parallel-item {display: flex;flex-direction: column;z-index: 1;position: relative;background-color: white;}#sk-container-id-1 div.sk-parallel-item:first-child::after {align-self: flex-end;width: 50%;}#sk-container-id-1 div.sk-parallel-item:last-child::after {align-self: flex-start;width: 50%;}#sk-container-id-1 div.sk-parallel-item:only-child::after {width: 0;}#sk-container-id-1 div.sk-dashed-wrapped {border: 1px dashed gray;margin: 0 0.4em 0.5em 0.4em;box-sizing: border-box;padding-bottom: 0.4em;background-color: white;}#sk-container-id-1 div.sk-label label {font-family: monospace;font-weight: bold;display: inline-block;line-height: 1.2em;}#sk-container-id-1 div.sk-label-container {text-align: center;}#sk-container-id-1 div.sk-container {/* jupyter's `normalize.less` sets `[hidden] { display: none; }` but bootstrap.min.css set `[hidden] { display: none !important; }` so we also need the `!important` here to be able to override the default hidden behavior on the sphinx rendered scikit-learn.org. See: https://github.com/scikit-learn/scikit-learn/issues/21755 */display: inline-block !important;position: relative;}#sk-container-id-1 div.sk-text-repr-fallback {display: none;}</style><div id=\"sk-container-id-1\" class=\"sk-top-container\"><div class=\"sk-text-repr-fallback\"><pre>LabelEncoder()</pre><b>In a Jupyter environment, please rerun this cell to show the HTML representation or trust the notebook. <br />On GitHub, the HTML representation is unable to render, please try loading this page with nbviewer.org.</b></div><div class=\"sk-container\" hidden><div class=\"sk-item\"><div class=\"sk-estimator sk-toggleable\"><input class=\"sk-toggleable__control sk-hidden--visually\" id=\"sk-estimator-id-1\" type=\"checkbox\" checked><label for=\"sk-estimator-id-1\" class=\"sk-toggleable__label sk-toggleable__label-arrow\">LabelEncoder</label><div class=\"sk-toggleable__content\"><pre>LabelEncoder()</pre></div></div></div></div></div>"
      ],
      "text/plain": [
       "LabelEncoder()"
      ]
     },
     "execution_count": 23,
     "metadata": {},
     "output_type": "execute_result"
    }
   ],
   "source": [
    "le = LabelEncoder()\n",
    "le.fit(df['GradeClass'])"
   ]
  },
  {
   "cell_type": "code",
   "execution_count": 25,
   "id": "e2bf8fd3-da66-4952-95c0-f37004f61a6c",
   "metadata": {},
   "outputs": [],
   "source": [
    "df['GradeClass']=le.transform(df['GradeClass'])"
   ]
  },
  {
   "cell_type": "code",
   "execution_count": 27,
   "id": "137846b6-87b9-47c8-8d56-1b6b64c2799b",
   "metadata": {},
   "outputs": [
    {
     "data": {
      "text/html": [
       "<div>\n",
       "<style scoped>\n",
       "    .dataframe tbody tr th:only-of-type {\n",
       "        vertical-align: middle;\n",
       "    }\n",
       "\n",
       "    .dataframe tbody tr th {\n",
       "        vertical-align: top;\n",
       "    }\n",
       "\n",
       "    .dataframe thead th {\n",
       "        text-align: right;\n",
       "    }\n",
       "</style>\n",
       "<table border=\"1\" class=\"dataframe\">\n",
       "  <thead>\n",
       "    <tr style=\"text-align: right;\">\n",
       "      <th></th>\n",
       "      <th>StudentID</th>\n",
       "      <th>Age</th>\n",
       "      <th>Gender</th>\n",
       "      <th>Ethnicity</th>\n",
       "      <th>ParentalEducation</th>\n",
       "      <th>StudyTimeWeekly</th>\n",
       "      <th>Absences</th>\n",
       "      <th>Tutoring</th>\n",
       "      <th>ParentalSupport</th>\n",
       "      <th>Extracurricular</th>\n",
       "      <th>Sports</th>\n",
       "      <th>Music</th>\n",
       "      <th>Volunteering</th>\n",
       "      <th>GPA</th>\n",
       "      <th>GradeClass</th>\n",
       "    </tr>\n",
       "  </thead>\n",
       "  <tbody>\n",
       "    <tr>\n",
       "      <th>0</th>\n",
       "      <td>1001</td>\n",
       "      <td>17</td>\n",
       "      <td>1</td>\n",
       "      <td>0</td>\n",
       "      <td>2</td>\n",
       "      <td>19.833723</td>\n",
       "      <td>7</td>\n",
       "      <td>1</td>\n",
       "      <td>2</td>\n",
       "      <td>0</td>\n",
       "      <td>0</td>\n",
       "      <td>1</td>\n",
       "      <td>0</td>\n",
       "      <td>2.929196</td>\n",
       "      <td>2</td>\n",
       "    </tr>\n",
       "  </tbody>\n",
       "</table>\n",
       "</div>"
      ],
      "text/plain": [
       "   StudentID  Age  Gender  Ethnicity  ParentalEducation  StudyTimeWeekly  \\\n",
       "0       1001   17       1          0                  2        19.833723   \n",
       "\n",
       "   Absences  Tutoring  ParentalSupport  Extracurricular  Sports  Music  \\\n",
       "0         7         1                2                0       0      1   \n",
       "\n",
       "   Volunteering       GPA  GradeClass  \n",
       "0             0  2.929196           2  "
      ]
     },
     "execution_count": 27,
     "metadata": {},
     "output_type": "execute_result"
    }
   ],
   "source": [
    "df.head(1)"
   ]
  },
  {
   "cell_type": "markdown",
   "id": "a28abf0d-b67c-4c06-9298-2cabc02be7ac",
   "metadata": {},
   "source": [
    "### *Handling Outliers"
   ]
  },
  {
   "cell_type": "markdown",
   "id": "3e8a5f47-5fa1-4f8a-8ed4-3ae7960ce133",
   "metadata": {},
   "source": [
    "### *Data Vizulisation"
   ]
  },
  {
   "cell_type": "markdown",
   "id": "a305cdf1-05fe-492c-9aae-970a4e70c721",
   "metadata": {},
   "source": [
    "# Model building"
   ]
  },
  {
   "cell_type": "markdown",
   "id": "b345e7f1-36f2-4ac6-92ec-cf1ab8ccc39c",
   "metadata": {},
   "source": [
    "### *Train Test Split"
   ]
  },
  {
   "cell_type": "code",
   "execution_count": 63,
   "id": "d1369f5d-f46d-4cb9-9dbf-ea1d8d4c4d2e",
   "metadata": {},
   "outputs": [],
   "source": [
    "x = df.drop(columns=['StudentID','GradeClass'])\n",
    "y = df['GradeClass']"
   ]
  },
  {
   "cell_type": "code",
   "execution_count": 89,
   "id": "8ee0f021-6771-46de-8100-3ee517467f40",
   "metadata": {},
   "outputs": [
    {
     "data": {
      "text/plain": [
       "0    2\n",
       "1    1\n",
       "2    4\n",
       "3    3\n",
       "4    4\n",
       "Name: GradeClass, dtype: int32"
      ]
     },
     "execution_count": 89,
     "metadata": {},
     "output_type": "execute_result"
    }
   ],
   "source": []
  },
  {
   "cell_type": "code",
   "execution_count": 91,
   "id": "a5ea5add-fdb8-4496-9120-a3f9b2133994",
   "metadata": {},
   "outputs": [],
   "source": [
    "x_train,x_test,y_train,y_test = train_test_split(x,y,test_size=0.2,random_state=42)"
   ]
  },
  {
   "cell_type": "code",
   "execution_count": 93,
   "id": "621b14c5-287c-49f1-991c-b34be0cdbe30",
   "metadata": {},
   "outputs": [
    {
     "name": "stdout",
     "output_type": "stream",
     "text": [
      "-----------------------------------------------------------------------------------------------------------------------------\n",
      "      Age  Gender  Ethnicity  ParentalEducation  StudyTimeWeekly  Absences  \\\n",
      "642    18       1          0                  4        18.118879        24   \n",
      "1752   16       1          3                  2         2.469271        19   \n",
      "1401   17       0          2                  3         3.456401        25   \n",
      "2032   17       1          0                  1        15.838131        25   \n",
      "990    16       0          0                  0         1.045373        19   \n",
      "\n",
      "      Tutoring  ParentalSupport  Extracurricular  Sports  Music  Volunteering  \\\n",
      "642          1                0                1       1      0             0   \n",
      "1752         0                1                0       0      0             1   \n",
      "1401         0                0                0       0      0             0   \n",
      "2032         1                2                0       0      0             0   \n",
      "990          1                2                0       0      1             0   \n",
      "\n",
      "           GPA  \n",
      "642   1.396278  \n",
      "1752  0.754751  \n",
      "1401  0.136166  \n",
      "2032  1.172192  \n",
      "990   1.747356  \n",
      "-----------------------------------------------------------------------------------------------------------------------------\n",
      "-----------------------------------------------------------------------------------------------------------------------------\n",
      "642     4\n",
      "1752    4\n",
      "1401    4\n",
      "2032    4\n",
      "990     4\n",
      "Name: GradeClass, dtype: int32\n",
      "-----------------------------------------------------------------------------------------------------------------------------\n",
      "-----------------------------------------------------------------------------------------------------------------------------\n",
      "      Age  Gender  Ethnicity  ParentalEducation  StudyTimeWeekly  Absences  \\\n",
      "1004   15       1          2                  4         0.135763        17   \n",
      "196    16       1          0                  4         1.989925         0   \n",
      "2342   15       0          0                  0        10.588715        15   \n",
      "1708   18       1          1                  2        16.208658         1   \n",
      "435    18       0          0                  0         3.576821        27   \n",
      "\n",
      "      Tutoring  ParentalSupport  Extracurricular  Sports  Music  Volunteering  \\\n",
      "1004         0                2                0       1      1             1   \n",
      "196          0                1                1       0      0             1   \n",
      "2342         0                3                0       0      0             1   \n",
      "1708         0                3                1       0      0             0   \n",
      "435          0                1                0       1      0             0   \n",
      "\n",
      "           GPA  \n",
      "1004  1.427724  \n",
      "196   3.117354  \n",
      "2342  2.037769  \n",
      "1708  3.548521  \n",
      "435   0.248977  \n",
      "-----------------------------------------------------------------------------------------------------------------------------\n",
      "-----------------------------------------------------------------------------------------------------------------------------\n",
      "1004    4\n",
      "196     1\n",
      "2342    2\n",
      "1708    0\n",
      "435     4\n",
      "Name: GradeClass, dtype: int32\n",
      "-----------------------------------------------------------------------------------------------------------------------------\n"
     ]
    }
   ],
   "source": [
    "for i in [x_train,y_train,x_test,y_test]:\n",
    "    print('-----'*25)\n",
    "    print(i.head())\n",
    "    print('-----'*25)"
   ]
  },
  {
   "cell_type": "markdown",
   "id": "3ea40f34-73a5-4860-8291-6b9dc3480446",
   "metadata": {},
   "source": [
    "### *Model Initialization"
   ]
  },
  {
   "cell_type": "code",
   "execution_count": 96,
   "id": "9d4ce54f-9b93-4b85-8b9d-ba1ceedeba02",
   "metadata": {},
   "outputs": [],
   "source": [
    "model = KNeighborsClassifier(n_neighbors=5)"
   ]
  },
  {
   "cell_type": "markdown",
   "id": "4566170e-b088-456a-bb48-70b8181bf692",
   "metadata": {},
   "source": [
    "### *Model Training"
   ]
  },
  {
   "cell_type": "code",
   "execution_count": 99,
   "id": "37e85dfa-bdf8-4d65-8fa1-f1c00b033880",
   "metadata": {},
   "outputs": [
    {
     "data": {
      "text/html": [
       "<style>#sk-container-id-2 {color: black;background-color: white;}#sk-container-id-2 pre{padding: 0;}#sk-container-id-2 div.sk-toggleable {background-color: white;}#sk-container-id-2 label.sk-toggleable__label {cursor: pointer;display: block;width: 100%;margin-bottom: 0;padding: 0.3em;box-sizing: border-box;text-align: center;}#sk-container-id-2 label.sk-toggleable__label-arrow:before {content: \"▸\";float: left;margin-right: 0.25em;color: #696969;}#sk-container-id-2 label.sk-toggleable__label-arrow:hover:before {color: black;}#sk-container-id-2 div.sk-estimator:hover label.sk-toggleable__label-arrow:before {color: black;}#sk-container-id-2 div.sk-toggleable__content {max-height: 0;max-width: 0;overflow: hidden;text-align: left;background-color: #f0f8ff;}#sk-container-id-2 div.sk-toggleable__content pre {margin: 0.2em;color: black;border-radius: 0.25em;background-color: #f0f8ff;}#sk-container-id-2 input.sk-toggleable__control:checked~div.sk-toggleable__content {max-height: 200px;max-width: 100%;overflow: auto;}#sk-container-id-2 input.sk-toggleable__control:checked~label.sk-toggleable__label-arrow:before {content: \"▾\";}#sk-container-id-2 div.sk-estimator input.sk-toggleable__control:checked~label.sk-toggleable__label {background-color: #d4ebff;}#sk-container-id-2 div.sk-label input.sk-toggleable__control:checked~label.sk-toggleable__label {background-color: #d4ebff;}#sk-container-id-2 input.sk-hidden--visually {border: 0;clip: rect(1px 1px 1px 1px);clip: rect(1px, 1px, 1px, 1px);height: 1px;margin: -1px;overflow: hidden;padding: 0;position: absolute;width: 1px;}#sk-container-id-2 div.sk-estimator {font-family: monospace;background-color: #f0f8ff;border: 1px dotted black;border-radius: 0.25em;box-sizing: border-box;margin-bottom: 0.5em;}#sk-container-id-2 div.sk-estimator:hover {background-color: #d4ebff;}#sk-container-id-2 div.sk-parallel-item::after {content: \"\";width: 100%;border-bottom: 1px solid gray;flex-grow: 1;}#sk-container-id-2 div.sk-label:hover label.sk-toggleable__label {background-color: #d4ebff;}#sk-container-id-2 div.sk-serial::before {content: \"\";position: absolute;border-left: 1px solid gray;box-sizing: border-box;top: 0;bottom: 0;left: 50%;z-index: 0;}#sk-container-id-2 div.sk-serial {display: flex;flex-direction: column;align-items: center;background-color: white;padding-right: 0.2em;padding-left: 0.2em;position: relative;}#sk-container-id-2 div.sk-item {position: relative;z-index: 1;}#sk-container-id-2 div.sk-parallel {display: flex;align-items: stretch;justify-content: center;background-color: white;position: relative;}#sk-container-id-2 div.sk-item::before, #sk-container-id-2 div.sk-parallel-item::before {content: \"\";position: absolute;border-left: 1px solid gray;box-sizing: border-box;top: 0;bottom: 0;left: 50%;z-index: -1;}#sk-container-id-2 div.sk-parallel-item {display: flex;flex-direction: column;z-index: 1;position: relative;background-color: white;}#sk-container-id-2 div.sk-parallel-item:first-child::after {align-self: flex-end;width: 50%;}#sk-container-id-2 div.sk-parallel-item:last-child::after {align-self: flex-start;width: 50%;}#sk-container-id-2 div.sk-parallel-item:only-child::after {width: 0;}#sk-container-id-2 div.sk-dashed-wrapped {border: 1px dashed gray;margin: 0 0.4em 0.5em 0.4em;box-sizing: border-box;padding-bottom: 0.4em;background-color: white;}#sk-container-id-2 div.sk-label label {font-family: monospace;font-weight: bold;display: inline-block;line-height: 1.2em;}#sk-container-id-2 div.sk-label-container {text-align: center;}#sk-container-id-2 div.sk-container {/* jupyter's `normalize.less` sets `[hidden] { display: none; }` but bootstrap.min.css set `[hidden] { display: none !important; }` so we also need the `!important` here to be able to override the default hidden behavior on the sphinx rendered scikit-learn.org. See: https://github.com/scikit-learn/scikit-learn/issues/21755 */display: inline-block !important;position: relative;}#sk-container-id-2 div.sk-text-repr-fallback {display: none;}</style><div id=\"sk-container-id-2\" class=\"sk-top-container\"><div class=\"sk-text-repr-fallback\"><pre>KNeighborsClassifier()</pre><b>In a Jupyter environment, please rerun this cell to show the HTML representation or trust the notebook. <br />On GitHub, the HTML representation is unable to render, please try loading this page with nbviewer.org.</b></div><div class=\"sk-container\" hidden><div class=\"sk-item\"><div class=\"sk-estimator sk-toggleable\"><input class=\"sk-toggleable__control sk-hidden--visually\" id=\"sk-estimator-id-2\" type=\"checkbox\" checked><label for=\"sk-estimator-id-2\" class=\"sk-toggleable__label sk-toggleable__label-arrow\">KNeighborsClassifier</label><div class=\"sk-toggleable__content\"><pre>KNeighborsClassifier()</pre></div></div></div></div></div>"
      ],
      "text/plain": [
       "KNeighborsClassifier()"
      ]
     },
     "execution_count": 99,
     "metadata": {},
     "output_type": "execute_result"
    }
   ],
   "source": [
    "model.fit(x_train,y_train)"
   ]
  },
  {
   "cell_type": "markdown",
   "id": "2da219e9-5aff-4bdb-bf0d-02fdcfae0eb5",
   "metadata": {},
   "source": [
    "### *Hyper Parameter tuning"
   ]
  },
  {
   "cell_type": "markdown",
   "id": "6841e1f3-27de-473d-bdff-f132ac4d2916",
   "metadata": {},
   "source": [
    "# evaluation & Result:"
   ]
  },
  {
   "cell_type": "code",
   "execution_count": 103,
   "id": "5646e5f9-353e-4c68-8729-826b8978d94a",
   "metadata": {},
   "outputs": [
    {
     "name": "stdout",
     "output_type": "stream",
     "text": [
      "[4 2 3 1 4 2 4 4 4 4 4 4 1 2 3 4 4 4 4 3 3 4 4 1 4 4 3 2 4 4 4 4 1 1 4 4 1\n",
      " 2 2 4 2 1 4 4 4 2 2 4 2 4 2 1 4 4 3 0 2 0 4 4 4 4 3 4 4 3 1 2 4 1 1 4 1 2\n",
      " 4 2 4 4 4 4 4 1 3 4 4 4 1 4 4 4 2 4 4 4 4 4 1 4 4 4 4 3 4 4 4 3 2 4 4 4 4\n",
      " 4 1 4 4 4 4 1 4 3 4 1 1 4 3 4 3 4 4 2 4 0 2 4 4 4 3 4 4 4 3 4 2 4 2 4 4 2\n",
      " 2 4 2 4 1 4 4 4 4 4 4 4 4 4 4 4 4 4 4 4 2 1 4 0 2 4 4 3 3 4 4 4 1 4 4 2 1\n",
      " 1 1 4 4 4 4 3 4 4 4 4 4 3 2 2 4 2 4 3 2 4 4 2 3 4 4 4 3 2 2 4 1 2 4 1 4 2\n",
      " 1 4 4 4 1 2 4 2 4 4 2 4 1 2 4 4 1 4 1 4 4 2 4 4 3 4 4 4 4 1 2 4 2 4 4 3 4\n",
      " 4 4 4 4 4 4 2 2 4 2 3 4 1 4 4 4 2 4 4 4 2 1 2 3 4 1 3 4 4 4 4 1 4 2 4 2 4\n",
      " 2 4 4 2 2 3 4 0 3 2 4 3 4 4 4 3 4 4 4 4 2 2 2 4 4 4 4 4 2 4 4 4 3 4 4 2 3\n",
      " 2 2 2 3 4 4 4 4 4 4 4 4 3 1 1 4 1 1 3 4 2 4 4 2 4 4 3 2 0 2 4 4 1 0 2 2 3\n",
      " 4 3 3 3 3 4 4 3 1 4 3 3 4 2 2 4 3 4 2 3 3 4 4 3 4 2 2 1 3 2 2 3 2 1 3 2 4\n",
      " 1 3 2 4 4 3 3 1 3 4 1 2 4 4 4 3 4 4 4 4 2 3 1 2 4 4 1 3 2 4 1 3 4 4 1 2 1\n",
      " 1 1 4 2 4 4 3 4 2 3 1 4 4 4 4 2 4 4 4 4 3 4 4 2 1 3 4 4 4 4 4 4 2 2 4]\n"
     ]
    }
   ],
   "source": [
    "y_pred = model.predict(x_test)\n",
    "print(y_pred)"
   ]
  },
  {
   "cell_type": "code",
   "execution_count": 104,
   "id": "20495412-b9e4-445a-b13c-8c4a22d82984",
   "metadata": {},
   "outputs": [
    {
     "name": "stdout",
     "output_type": "stream",
     "text": [
      "accuracy_score:  0.6659707724425887\n",
      "confusion_matrix:\n",
      "  [[  2  14   3   1   2]\n",
      " [  5  22  16   1   5]\n",
      " [  0  18  47  16   4]\n",
      " [  0   2  21  31  32]\n",
      " [  0   1   3  16 217]]\n",
      "classification_report:\n",
      "                precision    recall  f1-score   support\n",
      "\n",
      "           0       0.29      0.09      0.14        22\n",
      "           1       0.39      0.45      0.42        49\n",
      "           2       0.52      0.55      0.54        85\n",
      "           3       0.48      0.36      0.41        86\n",
      "           4       0.83      0.92      0.87       237\n",
      "\n",
      "    accuracy                           0.67       479\n",
      "   macro avg       0.50      0.47      0.47       479\n",
      "weighted avg       0.64      0.67      0.65       479\n",
      "\n"
     ]
    }
   ],
   "source": [
    "accuracy=accuracy_score(y_test, y_pred)\n",
    "confusion = confusion_matrix(y_test, y_pred)\n",
    "classification = classification_report(y_test, y_pred)\n",
    "\n",
    "print(f'accuracy_score:  {accuracy}')\n",
    "print(f'confusion_matrix:\\n  {confusion}')\n",
    "print(f'classification_report:\\n  {classification}')\n"
   ]
  },
  {
   "cell_type": "code",
   "execution_count": 105,
   "id": "438bd825-ae1c-4173-b1a4-f2e30654ddbf",
   "metadata": {},
   "outputs": [
    {
     "name": "stdout",
     "output_type": "stream",
     "text": [
      "   StudentID  Age  Gender  Ethnicity  ParentalEducation  StudyTimeWeekly  \\\n",
      "0       1002   17       1          0                  2        19.833723   \n",
      "\n",
      "   Absences  Tutoring  ParentalSupport  Extracurricular  Sports  Music  \\\n",
      "0         7         1                2                0       0      1   \n",
      "\n",
      "   Volunteering       GPA  GradeClass  \n",
      "0             2  2.929196           1  \n"
     ]
    }
   ],
   "source": [
    "new_data ={\n",
    "    'StudentID': [1002],\n",
    "    'Age':[17],\n",
    "    'Gender':[1],\n",
    "    'Ethnicity': [0],\n",
    "    'ParentalEducation': [2],\n",
    "    'StudyTimeWeekly': [19.833723],\n",
    "    'Absences': [7],\n",
    "    'Tutoring': [1],\n",
    "    'ParentalSupport': [2],\n",
    "    'Extracurricular': [0],\n",
    "    'Sports': [0],\n",
    "    'Music': [1],\n",
    "    'Volunteering': [2],\n",
    "    'GPA': [2.929196]\t\t\t\t\t\t\t\n",
    "} \n",
    "\n",
    "df = pd.DataFrame(new_data)\n",
    "\n",
    "\n",
    "# Drop the 'Id' column\n",
    "new_X = df.drop(columns=['StudentID'])\n",
    "\n",
    "# # Apply the same scaler used for the training data\n",
    "# new_X_scaled = scaler.transform(new_X)\n",
    "\n",
    "# # Convert the scaled data back to a DataFrame\n",
    "# new_df_scaled = pd.DataFrame(new_X_scaled, columns=new_X.columns)\n",
    "\n",
    "new_predictions = model.predict(new_X)\n",
    "\n",
    "# Add predictions to the new data\n",
    "df['GradeClass'] = new_predictions\n",
    "\n",
    "print(df)"
   ]
  },
  {
   "cell_type": "markdown",
   "id": "28e762ea-452d-4a98-8ce8-54f0b042bbd5",
   "metadata": {},
   "source": [
    "## Hyper Parameter Tuning"
   ]
  },
  {
   "cell_type": "code",
   "execution_count": 110,
   "id": "53cda6f3-3af2-4edb-afb2-987aa2181280",
   "metadata": {},
   "outputs": [],
   "source": [
    "model_tuned=KNeighborsClassifier()"
   ]
  },
  {
   "cell_type": "code",
   "execution_count": 112,
   "id": "ce43f870-1a5b-4e54-843c-896368f9fbc5",
   "metadata": {},
   "outputs": [],
   "source": [
    "params = {\n",
    "     'n_neighbors' : [i for i in np.arange(0,5,1) ],\n",
    "     'algorithm' : ['ball_tree', 'kd_tree'],\n",
    "    'weights' : ['uniform', 'distance']\n",
    "}"
   ]
  },
  {
   "cell_type": "code",
   "execution_count": 114,
   "id": "d32b1926-5478-43c4-8947-e61dfcd6d80c",
   "metadata": {},
   "outputs": [],
   "source": [
    "params_kNeigh = GridSearchCV(estimator=KNeighborsClassifier(), param_grid=params)"
   ]
  },
  {
   "cell_type": "code",
   "execution_count": 116,
   "id": "12df9c9c-a670-40c8-8ee8-5e5eabeae3d5",
   "metadata": {},
   "outputs": [
    {
     "name": "stdout",
     "output_type": "stream",
     "text": [
      "Time taken for Grid Cv 0 days 00:00:01.706556 run time\n"
     ]
    },
    {
     "name": "stderr",
     "output_type": "stream",
     "text": [
      "C:\\Users\\hp\\anaconda3\\Lib\\site-packages\\sklearn\\model_selection\\_validation.py:378: FitFailedWarning: \n",
      "20 fits failed out of a total of 100.\n",
      "The score on these train-test partitions for these parameters will be set to nan.\n",
      "If these failures are not expected, you can try to debug them by setting error_score='raise'.\n",
      "\n",
      "Below are more details about the failures:\n",
      "--------------------------------------------------------------------------------\n",
      "20 fits failed with the following error:\n",
      "Traceback (most recent call last):\n",
      "  File \"C:\\Users\\hp\\anaconda3\\Lib\\site-packages\\sklearn\\model_selection\\_validation.py\", line 686, in _fit_and_score\n",
      "    estimator.fit(X_train, y_train, **fit_params)\n",
      "  File \"C:\\Users\\hp\\anaconda3\\Lib\\site-packages\\sklearn\\neighbors\\_classification.py\", line 213, in fit\n",
      "    self._validate_params()\n",
      "  File \"C:\\Users\\hp\\anaconda3\\Lib\\site-packages\\sklearn\\base.py\", line 600, in _validate_params\n",
      "    validate_parameter_constraints(\n",
      "  File \"C:\\Users\\hp\\anaconda3\\Lib\\site-packages\\sklearn\\utils\\_param_validation.py\", line 97, in validate_parameter_constraints\n",
      "    raise InvalidParameterError(\n",
      "sklearn.utils._param_validation.InvalidParameterError: The 'n_neighbors' parameter of KNeighborsClassifier must be an int in the range [1, inf) or None. Got 0 instead.\n",
      "\n",
      "  warnings.warn(some_fits_failed_message, FitFailedWarning)\n",
      "C:\\Users\\hp\\anaconda3\\Lib\\site-packages\\sklearn\\model_selection\\_search.py:952: UserWarning: One or more of the test scores are non-finite: [       nan        nan 0.63303624 0.63303624 0.58808251 0.63303624\n",
      " 0.66648258 0.67746504 0.67955108 0.68529657        nan        nan\n",
      " 0.63303624 0.63303624 0.58808251 0.63303624 0.66648258 0.67746504\n",
      " 0.67955108 0.68529657]\n",
      "  warnings.warn(\n"
     ]
    }
   ],
   "source": [
    "start = pd.Timestamp.now()\n",
    "params_kNeigh.fit(x_train,y_train)\n",
    "end = pd.Timestamp.now()-start\n",
    "\n",
    "print(f'Time taken for Grid Cv {end} run time')"
   ]
  },
  {
   "cell_type": "code",
   "execution_count": 117,
   "id": "b377382e-1fe6-4a27-851e-4bc5c24748cf",
   "metadata": {},
   "outputs": [
    {
     "data": {
      "text/plain": [
       "{'n_neighbors': [0, 1, 2, 3, 4],\n",
       " 'algorithm': ['ball_tree', 'kd_tree'],\n",
       " 'weights': ['uniform', 'distance']}"
      ]
     },
     "execution_count": 117,
     "metadata": {},
     "output_type": "execute_result"
    }
   ],
   "source": [
    "params"
   ]
  },
  {
   "cell_type": "code",
   "execution_count": 118,
   "id": "94a3ea9a-57f8-4a27-b15b-b9996fba50a4",
   "metadata": {},
   "outputs": [
    {
     "data": {
      "text/plain": [
       "{'algorithm': 'ball_tree', 'n_neighbors': 4, 'weights': 'distance'}"
      ]
     },
     "execution_count": 118,
     "metadata": {},
     "output_type": "execute_result"
    }
   ],
   "source": [
    "params_kNeigh.best_params_"
   ]
  },
  {
   "cell_type": "code",
   "execution_count": 119,
   "id": "4289a85b-b60b-47d0-addb-e0128ee63739",
   "metadata": {},
   "outputs": [],
   "source": [
    "tuned_model=KNeighborsClassifier(algorithm= 'ball_tree', n_neighbors = 4, weights = 'distance')"
   ]
  },
  {
   "cell_type": "code",
   "execution_count": 120,
   "id": "7d00fe22-40f1-47f7-a532-d47bc6419307",
   "metadata": {},
   "outputs": [
    {
     "data": {
      "text/html": [
       "<style>#sk-container-id-3 {color: black;background-color: white;}#sk-container-id-3 pre{padding: 0;}#sk-container-id-3 div.sk-toggleable {background-color: white;}#sk-container-id-3 label.sk-toggleable__label {cursor: pointer;display: block;width: 100%;margin-bottom: 0;padding: 0.3em;box-sizing: border-box;text-align: center;}#sk-container-id-3 label.sk-toggleable__label-arrow:before {content: \"▸\";float: left;margin-right: 0.25em;color: #696969;}#sk-container-id-3 label.sk-toggleable__label-arrow:hover:before {color: black;}#sk-container-id-3 div.sk-estimator:hover label.sk-toggleable__label-arrow:before {color: black;}#sk-container-id-3 div.sk-toggleable__content {max-height: 0;max-width: 0;overflow: hidden;text-align: left;background-color: #f0f8ff;}#sk-container-id-3 div.sk-toggleable__content pre {margin: 0.2em;color: black;border-radius: 0.25em;background-color: #f0f8ff;}#sk-container-id-3 input.sk-toggleable__control:checked~div.sk-toggleable__content {max-height: 200px;max-width: 100%;overflow: auto;}#sk-container-id-3 input.sk-toggleable__control:checked~label.sk-toggleable__label-arrow:before {content: \"▾\";}#sk-container-id-3 div.sk-estimator input.sk-toggleable__control:checked~label.sk-toggleable__label {background-color: #d4ebff;}#sk-container-id-3 div.sk-label input.sk-toggleable__control:checked~label.sk-toggleable__label {background-color: #d4ebff;}#sk-container-id-3 input.sk-hidden--visually {border: 0;clip: rect(1px 1px 1px 1px);clip: rect(1px, 1px, 1px, 1px);height: 1px;margin: -1px;overflow: hidden;padding: 0;position: absolute;width: 1px;}#sk-container-id-3 div.sk-estimator {font-family: monospace;background-color: #f0f8ff;border: 1px dotted black;border-radius: 0.25em;box-sizing: border-box;margin-bottom: 0.5em;}#sk-container-id-3 div.sk-estimator:hover {background-color: #d4ebff;}#sk-container-id-3 div.sk-parallel-item::after {content: \"\";width: 100%;border-bottom: 1px solid gray;flex-grow: 1;}#sk-container-id-3 div.sk-label:hover label.sk-toggleable__label {background-color: #d4ebff;}#sk-container-id-3 div.sk-serial::before {content: \"\";position: absolute;border-left: 1px solid gray;box-sizing: border-box;top: 0;bottom: 0;left: 50%;z-index: 0;}#sk-container-id-3 div.sk-serial {display: flex;flex-direction: column;align-items: center;background-color: white;padding-right: 0.2em;padding-left: 0.2em;position: relative;}#sk-container-id-3 div.sk-item {position: relative;z-index: 1;}#sk-container-id-3 div.sk-parallel {display: flex;align-items: stretch;justify-content: center;background-color: white;position: relative;}#sk-container-id-3 div.sk-item::before, #sk-container-id-3 div.sk-parallel-item::before {content: \"\";position: absolute;border-left: 1px solid gray;box-sizing: border-box;top: 0;bottom: 0;left: 50%;z-index: -1;}#sk-container-id-3 div.sk-parallel-item {display: flex;flex-direction: column;z-index: 1;position: relative;background-color: white;}#sk-container-id-3 div.sk-parallel-item:first-child::after {align-self: flex-end;width: 50%;}#sk-container-id-3 div.sk-parallel-item:last-child::after {align-self: flex-start;width: 50%;}#sk-container-id-3 div.sk-parallel-item:only-child::after {width: 0;}#sk-container-id-3 div.sk-dashed-wrapped {border: 1px dashed gray;margin: 0 0.4em 0.5em 0.4em;box-sizing: border-box;padding-bottom: 0.4em;background-color: white;}#sk-container-id-3 div.sk-label label {font-family: monospace;font-weight: bold;display: inline-block;line-height: 1.2em;}#sk-container-id-3 div.sk-label-container {text-align: center;}#sk-container-id-3 div.sk-container {/* jupyter's `normalize.less` sets `[hidden] { display: none; }` but bootstrap.min.css set `[hidden] { display: none !important; }` so we also need the `!important` here to be able to override the default hidden behavior on the sphinx rendered scikit-learn.org. See: https://github.com/scikit-learn/scikit-learn/issues/21755 */display: inline-block !important;position: relative;}#sk-container-id-3 div.sk-text-repr-fallback {display: none;}</style><div id=\"sk-container-id-3\" class=\"sk-top-container\"><div class=\"sk-text-repr-fallback\"><pre>KNeighborsClassifier(algorithm=&#x27;ball_tree&#x27;, n_neighbors=4, weights=&#x27;distance&#x27;)</pre><b>In a Jupyter environment, please rerun this cell to show the HTML representation or trust the notebook. <br />On GitHub, the HTML representation is unable to render, please try loading this page with nbviewer.org.</b></div><div class=\"sk-container\" hidden><div class=\"sk-item\"><div class=\"sk-estimator sk-toggleable\"><input class=\"sk-toggleable__control sk-hidden--visually\" id=\"sk-estimator-id-3\" type=\"checkbox\" checked><label for=\"sk-estimator-id-3\" class=\"sk-toggleable__label sk-toggleable__label-arrow\">KNeighborsClassifier</label><div class=\"sk-toggleable__content\"><pre>KNeighborsClassifier(algorithm=&#x27;ball_tree&#x27;, n_neighbors=4, weights=&#x27;distance&#x27;)</pre></div></div></div></div></div>"
      ],
      "text/plain": [
       "KNeighborsClassifier(algorithm='ball_tree', n_neighbors=4, weights='distance')"
      ]
     },
     "execution_count": 120,
     "metadata": {},
     "output_type": "execute_result"
    }
   ],
   "source": [
    "tuned_model.fit(x_train, y_train)"
   ]
  },
  {
   "cell_type": "code",
   "execution_count": 121,
   "id": "8dfdc60a-aeca-4809-9f44-a82a119ced66",
   "metadata": {},
   "outputs": [],
   "source": [
    "y1_pred=tuned_model.predict(x_test)"
   ]
  },
  {
   "cell_type": "code",
   "execution_count": 127,
   "id": "e86d5eac-c0a6-428c-aabd-e073aee222ea",
   "metadata": {},
   "outputs": [
    {
     "data": {
      "text/plain": [
       "array([4, 2, 3, 1, 4, 2, 4, 4, 4, 4, 3, 4, 1, 2, 3, 4, 4, 4, 4, 3, 3, 4,\n",
       "       4, 1, 4, 4, 3, 2, 4, 4, 4, 4, 2, 1, 4, 4, 1, 2, 2, 4, 2, 1, 4, 4,\n",
       "       4, 2, 2, 4, 2, 4, 2, 1, 4, 4, 3, 0, 3, 0, 4, 3, 4, 4, 3, 4, 4, 3,\n",
       "       1, 3, 4, 0, 1, 3, 1, 2, 4, 1, 4, 4, 4, 4, 4, 1, 2, 4, 4, 4, 1, 4,\n",
       "       4, 4, 2, 4, 4, 4, 4, 4, 0, 4, 4, 4, 4, 3, 4, 4, 4, 3, 2, 4, 4, 4,\n",
       "       4, 4, 0, 4, 4, 4, 4, 2, 4, 4, 4, 1, 1, 4, 4, 4, 3, 4, 4, 2, 4, 0,\n",
       "       2, 4, 4, 4, 3, 4, 4, 4, 4, 3, 1, 3, 2, 4, 4, 3, 2, 4, 2, 4, 0, 4,\n",
       "       4, 4, 4, 4, 4, 4, 4, 4, 4, 4, 4, 4, 4, 4, 2, 1, 4, 1, 2, 4, 4, 3,\n",
       "       3, 4, 4, 4, 1, 4, 4, 2, 1, 2, 1, 4, 4, 4, 4, 3, 4, 4, 4, 4, 4, 3,\n",
       "       2, 2, 4, 2, 4, 2, 2, 3, 4, 2, 4, 4, 4, 4, 3, 2, 4, 4, 2, 2, 4, 1,\n",
       "       4, 2, 1, 4, 4, 4, 1, 2, 4, 3, 4, 4, 2, 4, 1, 3, 4, 4, 2, 4, 0, 4,\n",
       "       4, 2, 4, 4, 3, 4, 4, 4, 4, 1, 2, 4, 3, 4, 4, 3, 4, 4, 3, 4, 4, 4,\n",
       "       4, 2, 3, 4, 2, 3, 4, 1, 4, 4, 4, 2, 4, 4, 4, 2, 1, 2, 3, 4, 1, 3,\n",
       "       4, 4, 4, 4, 0, 4, 2, 4, 2, 4, 2, 4, 4, 2, 2, 3, 4, 1, 3, 2, 4, 3,\n",
       "       4, 4, 4, 3, 4, 4, 4, 4, 1, 3, 2, 4, 4, 4, 4, 3, 2, 4, 4, 4, 0, 4,\n",
       "       4, 2, 3, 3, 1, 2, 3, 4, 4, 4, 4, 4, 4, 4, 4, 3, 2, 1, 4, 1, 1, 3,\n",
       "       4, 2, 4, 4, 2, 4, 4, 3, 2, 0, 2, 4, 4, 1, 1, 2, 2, 4, 4, 3, 3, 3,\n",
       "       3, 4, 4, 3, 1, 4, 3, 3, 4, 2, 2, 4, 3, 3, 2, 4, 3, 4, 4, 3, 4, 2,\n",
       "       2, 1, 3, 2, 3, 2, 2, 2, 4, 2, 4, 1, 3, 2, 4, 4, 3, 2, 1, 3, 4, 1,\n",
       "       2, 4, 4, 4, 3, 4, 4, 4, 4, 2, 3, 1, 2, 4, 3, 1, 4, 2, 4, 1, 3, 4,\n",
       "       4, 1, 2, 1, 1, 1, 4, 2, 4, 4, 3, 4, 2, 3, 1, 3, 4, 4, 4, 2, 4, 4,\n",
       "       4, 3, 3, 4, 4, 2, 1, 3, 4, 4, 4, 4, 4, 4, 3, 2, 4])"
      ]
     },
     "execution_count": 127,
     "metadata": {},
     "output_type": "execute_result"
    }
   ],
   "source": [
    "y1_pred"
   ]
  },
  {
   "cell_type": "code",
   "execution_count": 129,
   "id": "576f6d0c-39c8-4c17-91ad-e64be09eb91d",
   "metadata": {},
   "outputs": [
    {
     "name": "stdout",
     "output_type": "stream",
     "text": [
      "accuracy_score:  0.6638830897703549\n",
      "confusion_matrix:\n",
      "  [[  4  12   2   2   2]\n",
      " [  5  22  16   2   4]\n",
      " [  2  15  45  16   7]\n",
      " [  0   1  20  34  31]\n",
      " [  0   1   2  21 213]]\n",
      "classification_report:\n",
      "                precision    recall  f1-score   support\n",
      "\n",
      "           0       0.36      0.18      0.24        22\n",
      "           1       0.43      0.45      0.44        49\n",
      "           2       0.53      0.53      0.53        85\n",
      "           3       0.45      0.40      0.42        86\n",
      "           4       0.83      0.90      0.86       237\n",
      "\n",
      "    accuracy                           0.66       479\n",
      "   macro avg       0.52      0.49      0.50       479\n",
      "weighted avg       0.65      0.66      0.65       479\n",
      "\n"
     ]
    }
   ],
   "source": [
    "accuracy=accuracy_score(y_test, y1_pred)\n",
    "confusion = confusion_matrix(y_test, y1_pred)\n",
    "classification = classification_report(y_test, y1_pred)\n",
    "\n",
    "print(f'accuracy_score:  {accuracy}')\n",
    "print(f'confusion_matrix:\\n  {confusion}')\n",
    "print(f'classification_report:\\n  {classification}')"
   ]
  },
  {
   "cell_type": "code",
   "execution_count": 132,
   "id": "d7518cfb-f8f9-4c41-b6cc-3f9b08ea534f",
   "metadata": {},
   "outputs": [
    {
     "name": "stdout",
     "output_type": "stream",
     "text": [
      "   StudentID  Age  Gender  Ethnicity  ParentalEducation  StudyTimeWeekly  \\\n",
      "0       1002   17       1          0                  2        19.833723   \n",
      "\n",
      "   Absences  Tutoring  ParentalSupport  Extracurricular  Sports  Music  \\\n",
      "0         7         1                2                0       0      1   \n",
      "\n",
      "   Volunteering       GPA  GradeClass  \n",
      "0             2  2.929196           2  \n"
     ]
    }
   ],
   "source": [
    "new_data ={\n",
    "    'StudentID': [1002],\n",
    "    'Age':[17],\n",
    "    'Gender':[1],\n",
    "    'Ethnicity': [0],\n",
    "    'ParentalEducation': [2],\n",
    "    'StudyTimeWeekly': [19.833723],\n",
    "    'Absences': [7],\n",
    "    'Tutoring': [1],\n",
    "    'ParentalSupport': [2],\n",
    "    'Extracurricular': [0],\n",
    "    'Sports': [0],\n",
    "    'Music': [1],\n",
    "    'Volunteering': [2],\n",
    "    'GPA': [2.929196]\t\t\t\t\t\t\t\n",
    "} \n",
    "\n",
    "df = pd.DataFrame(new_data)\n",
    "\n",
    "\n",
    "# Drop the 'Id' column\n",
    "new_X = df.drop(columns=['StudentID'])\n",
    "\n",
    "# # Apply the same scaler used for the training data\n",
    "# new_X_scaled = scaler.transform(new_X)\n",
    "\n",
    "# # Convert the scaled data back to a DataFrame\n",
    "# new_df_scaled = pd.DataFrame(new_X_scaled, columns=new_X.columns)\n",
    "\n",
    "new_predictions = tuned_model.predict(new_X)\n",
    "\n",
    "# Add predictions to the new data\n",
    "df['GradeClass'] = new_predictions\n",
    "\n",
    "print(df)"
   ]
  },
  {
   "cell_type": "code",
   "execution_count": null,
   "id": "9ce8766b-88dc-46de-9150-b8a276e277a0",
   "metadata": {},
   "outputs": [],
   "source": []
  }
 ],
 "metadata": {
  "kernelspec": {
   "display_name": "Python 3 (ipykernel)",
   "language": "python",
   "name": "python3"
  },
  "language_info": {
   "codemirror_mode": {
    "name": "ipython",
    "version": 3
   },
   "file_extension": ".py",
   "mimetype": "text/x-python",
   "name": "python",
   "nbconvert_exporter": "python",
   "pygments_lexer": "ipython3",
   "version": "3.11.7"
  }
 },
 "nbformat": 4,
 "nbformat_minor": 5
}
